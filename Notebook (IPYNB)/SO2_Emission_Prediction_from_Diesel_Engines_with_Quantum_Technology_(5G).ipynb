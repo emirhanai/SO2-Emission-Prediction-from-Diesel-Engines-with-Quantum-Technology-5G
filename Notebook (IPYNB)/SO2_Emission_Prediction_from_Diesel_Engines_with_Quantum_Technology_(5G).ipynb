{
  "metadata": {
    "kernelspec": {
      "language": "python",
      "display_name": "Python 3",
      "name": "python3"
    },
    "language_info": {
      "name": "python",
      "version": "3.7.12",
      "mimetype": "text/x-python",
      "codemirror_mode": {
        "name": "ipython",
        "version": 3
      },
      "pygments_lexer": "ipython3",
      "nbconvert_exporter": "python",
      "file_extension": ".py"
    },
    "colab": {
      "provenance": [],
      "collapsed_sections": []
    },
    "accelerator": "GPU",
    "gpuClass": "standard"
  },
  "nbformat_minor": 0,
  "nbformat": 4,
  "cells": [
    {
      "cell_type": "markdown",
      "source": [
        "##### Copyright 2022 The Emirhan BULUT.\n",
        "# SO2 Emission Prediction from Diesel Engines with Quantum Technology (5G)\n",
        "**Author:** [Emirhan BULUT](https://www.linkedin.com/in/artificialintelligencebulut/)<br>\n",
        "**Date created:** 2022/11/12<br>\n",
        "**Last modified:** 2022/11/12<br>\n",
        "**Description:** A worldwide study has been conducted on the emission values of SO2 gases released from diesel engines in the world (class 1 if it has increased compared to the previous year, class 0 if there has been a decrease compared to the previous year, and class 0 for the starting years). In this research, 5G compatible quantum algorithms were designed by me. Quantum computer was used for the process. The minimum number of qubits is set for use on all computers. Finally, the same data was tested in the classical deep neural network (deep learning) network and Machine Learning algorithm (Random Forest). On the basis of test accuracy, the quantum5 algorithm was found to be more performant than all of them.\n",
        "\n",
        "<table class=\"tfo-notebook-buttons\" align=\"left\">\n",
        "\n",
        "  <td>\n",
        "    <a target=\"_blank\" href=\"https://colab.research.google.com/drive/1UAdJ-m9DFWlQWKnJNuyeRWmYexa1XjAJ?usp=sharing\"><img src=\"https://www.tensorflow.org/images/colab_logo_32px.png\" />Run in Google Colab</a>\n",
        "  </td>\n",
        "  <td>\n",
        "    <a target=\"_blank\" href=\"https://github.com/emirhanai\"><img src=\"https://www.tensorflow.org/images/GitHub-Mark-32px.png\" />View source on GitHub</a>\n",
        "  </td>\n",
        "</table>"
      ],
      "metadata": {
        "id": "sYtTgbNnXiJm"
      }
    },
    {
      "cell_type": "markdown",
      "source": [
        "![png](https://raw.githubusercontent.com/emirhanai/SO2-Emission-Prediction-from-Diesel-Engines-with-Quantum-Technology-5G/main/SO2%20Emission%20Prediction%20from%20Diesel%20Engines%20with%20Quantum%20Technology%20(5G).png)"
      ],
      "metadata": {
        "id": "4fTg_Yz3tXmM"
      }
    },
    {
      "cell_type": "markdown",
      "source": [
        "# Installing Libraries"
      ],
      "metadata": {
        "id": "ooCzxKzrMNmO"
      }
    },
    {
      "cell_type": "code",
      "source": [
        "!pip install pip install tensorflow==2.7.0\n",
        "!pip install pennylane"
      ],
      "metadata": {
        "execution": {
          "iopub.status.busy": "2022-10-25T21:33:57.610042Z",
          "iopub.execute_input": "2022-10-25T21:33:57.610457Z",
          "iopub.status.idle": "2022-10-25T21:35:49.926474Z",
          "shell.execute_reply.started": "2022-10-25T21:33:57.610372Z",
          "shell.execute_reply": "2022-10-25T21:35:49.925329Z"
        },
        "trusted": true,
        "id": "FlZNuAbyfCpk"
      },
      "execution_count": null,
      "outputs": []
    },
    {
      "cell_type": "code",
      "source": [
        "!pip install pennylane-lightning[gpu]"
      ],
      "metadata": {
        "id": "oH2lPfc6l382"
      },
      "execution_count": null,
      "outputs": []
    },
    {
      "cell_type": "code",
      "source": [
        "!pip install pennylane-lightning[qubits]"
      ],
      "metadata": {
        "id": "5ZIr1O10_MjZ"
      },
      "execution_count": null,
      "outputs": []
    },
    {
      "cell_type": "markdown",
      "source": [
        "# Import Libraries"
      ],
      "metadata": {
        "id": "UvBy9rQ7xpls"
      }
    },
    {
      "cell_type": "code",
      "source": [
        "import tensorflow as tf\n",
        "from tensorflow.keras.optimizers import Adam\n",
        "from tensorflow import keras\n",
        "from keras.models import Model\n",
        "from tensorflow.keras import layers\n",
        "\n",
        "import numpy as np\n",
        "import numpy\n",
        "import pandas as pd\n",
        "import seaborn as sns\n",
        "import matplotlib.pyplot as plt\n",
        "import nltk\n",
        "import re\n",
        "\n",
        "import pennylane as qml\n",
        "from pennylane import numpy as p_np\n",
        "\n",
        "from pennylane.templates.state_preparations import MottonenStatePreparation\n",
        "from pennylane.templates.layers import StronglyEntanglingLayers\n",
        "from nltk.corpus import stopwords\n",
        "from keras.preprocessing.text import Tokenizer\n",
        "from keras.preprocessing.sequence import pad_sequences\n",
        "from sklearn.model_selection import train_test_split\n",
        "import tensorflow as tf"
      ],
      "metadata": {
        "_cell_guid": "b1076dfc-b9ad-4769-8c92-a6c4dae69d19",
        "_uuid": "8f2839f25d086af736a60e9eeb907d3b93b6e0e5",
        "id": "C-rU0M1gxplz",
        "execution": {
          "iopub.status.busy": "2022-10-25T23:01:01.065826Z",
          "iopub.execute_input": "2022-10-25T23:01:01.066187Z",
          "iopub.status.idle": "2022-10-25T23:01:01.073487Z",
          "shell.execute_reply.started": "2022-10-25T23:01:01.066157Z",
          "shell.execute_reply": "2022-10-25T23:01:01.072480Z"
        },
        "trusted": true
      },
      "execution_count": null,
      "outputs": []
    },
    {
      "cell_type": "markdown",
      "source": [
        "# Data Prepare"
      ],
      "metadata": {
        "id": "BBMi7ePjxpl_"
      }
    },
    {
      "cell_type": "code",
      "source": [
        "!git clone https://github.com/emirhanai/SO2-Emission-Prediction-from-Diesel-Engines-with-Quantum-Technology-5G"
      ],
      "metadata": {
        "colab": {
          "base_uri": "https://localhost:8080/"
        },
        "id": "mR6tm1JsKWDX",
        "outputId": "9ff31a7c-5abd-4109-9fa6-169f00a20c3b"
      },
      "execution_count": null,
      "outputs": [
        {
          "output_type": "stream",
          "name": "stdout",
          "text": [
            "Cloning into 'SO2-Emission-Prediction-from-Diesel-Engines-with-Quantum-Technology-5G'...\n",
            "remote: Enumerating objects: 10, done.\u001b[K\n",
            "remote: Counting objects: 100% (10/10), done.\u001b[K\n",
            "remote: Compressing objects: 100% (10/10), done.\u001b[K\n",
            "remote: Total 10 (delta 1), reused 0 (delta 0), pack-reused 0\u001b[K\n",
            "Unpacking objects: 100% (10/10), done.\n"
          ]
        }
      ]
    },
    {
      "cell_type": "code",
      "source": [
        "cd /content/SO2-Emission-Prediction-from-Diesel-Engines-with-Quantum-Technology-5G-"
      ],
      "metadata": {
        "colab": {
          "base_uri": "https://localhost:8080/"
        },
        "id": "CEoXBoo9Ke3R",
        "outputId": "d460bc75-0cab-4f03-a70b-d5c7401ca06d"
      },
      "execution_count": null,
      "outputs": [
        {
          "output_type": "stream",
          "name": "stdout",
          "text": [
            "/content/SO2-Emission-Prediction-from-Diesel-Engines-with-Quantum-Technology-5G-\n"
          ]
        }
      ]
    },
    {
      "cell_type": "code",
      "source": [
        "X_train,X_test,y_train,y_test = numpy.load(\"X_train.npy\"),numpy.load(\"X_test.npy\"),numpy.load(\"y_train.npy\"),numpy.load(\"y_test.npy\")"
      ],
      "metadata": {
        "id": "MRDF4XJZ5c1D"
      },
      "execution_count": null,
      "outputs": []
    },
    {
      "cell_type": "code",
      "source": [
        "cd /content/"
      ],
      "metadata": {
        "colab": {
          "base_uri": "https://localhost:8080/"
        },
        "id": "YkPr7XNEKhwg",
        "outputId": "67f309bb-da06-4e67-b4b7-e4ae6339559c"
      },
      "execution_count": null,
      "outputs": [
        {
          "output_type": "stream",
          "name": "stdout",
          "text": [
            "/content\n"
          ]
        }
      ]
    },
    {
      "cell_type": "markdown",
      "source": [
        "# Preparation of Quantum5"
      ],
      "metadata": {
        "id": "QVUvNuBBfCpp"
      }
    },
    {
      "cell_type": "code",
      "source": [
        "n_qubits = 2\n",
        "dev = qml.device(\"default.qubit\", wires=n_qubits)\n",
        "\n",
        "@qml.qnode(dev)\n",
        "def qnode(inputs, weights):\n",
        "    qml.AngleEmbedding(inputs, wires=range(n_qubits))\n",
        "    qml.BasicEntanglerLayers(weights, wires=range(n_qubits))\n",
        "    return [qml.expval(qml.PauliZ(wires=i)) for i in range(n_qubits)]\n",
        "\n",
        "n_layers = 8\n",
        "weight_shapes = {\"weights\": (n_layers, n_qubits)}"
      ],
      "metadata": {
        "execution": {
          "iopub.status.busy": "2022-10-25T22:42:32.059380Z",
          "iopub.execute_input": "2022-10-25T22:42:32.059753Z",
          "iopub.status.idle": "2022-10-25T22:42:32.085463Z",
          "shell.execute_reply.started": "2022-10-25T22:42:32.059721Z",
          "shell.execute_reply": "2022-10-25T22:42:32.084590Z"
        },
        "trusted": true,
        "id": "D3CDPY-gfCpq"
      },
      "execution_count": null,
      "outputs": []
    },
    {
      "cell_type": "code",
      "source": [
        "clayer_1 = tf.keras.layers.Dense(1, activation=\"relu\")\n",
        "\n",
        "# construct the model\n",
        "inputs = tf.keras.Input(shape=(1,))\n",
        "x = clayer_1(inputs)\n",
        "x = tf.keras.layers.Dropout(0.1)(x)\n",
        "\n",
        "x = qml.qnn.KerasLayer(qnode, weight_shapes, output_dim=1)(x)\n",
        "\n",
        "model = tf.keras.Model(inputs=inputs, outputs=x)\n",
        "opt = tf.keras.optimizers.SGD(learning_rate=0.2)\n",
        "model.compile(opt, loss=\"mse\", metrics=[\"accuracy\"])"
      ],
      "metadata": {
        "id": "aiFLKbec17zG"
      },
      "execution_count": null,
      "outputs": []
    },
    {
      "cell_type": "markdown",
      "source": [
        "# Model Fitting"
      ],
      "metadata": {
        "id": "pUeMHtsHfCpq"
      }
    },
    {
      "cell_type": "code",
      "source": [
        "model_fit = model.fit(X_train, y_train, epochs=2, batch_size=256,shuffle=True, validation_data=(X_test,y_test), verbose=2,callbacks=[keras.callbacks.ModelCheckpoint(\"/content/model/model_{epoch}.h5\")])"
      ],
      "metadata": {
        "colab": {
          "base_uri": "https://localhost:8080/"
        },
        "id": "sZUC9Tv-2JY6",
        "outputId": "e4521d08-c735-4a1b-a32f-549d7ae0e49e"
      },
      "execution_count": null,
      "outputs": [
        {
          "output_type": "stream",
          "name": "stdout",
          "text": [
            "Epoch 1/2\n",
            "1/1 - 10s - loss: 0.6494 - accuracy: 0.7473 - val_loss: 0.3424 - val_accuracy: 0.7273 - 10s/epoch - 10s/step\n",
            "Epoch 2/2\n",
            "1/1 - 10s - loss: 0.3125 - accuracy: 0.7473 - val_loss: 0.2480 - val_accuracy: 0.8182 - 10s/epoch - 10s/step\n"
          ]
        }
      ]
    },
    {
      "cell_type": "markdown",
      "source": [
        "**Model Evaluate for Quantum**"
      ],
      "metadata": {
        "id": "UfwZBIOM_5e3"
      }
    },
    {
      "cell_type": "code",
      "source": [
        "model.evaluate(X_test,y_test)"
      ],
      "metadata": {
        "colab": {
          "base_uri": "https://localhost:8080/"
        },
        "id": "gxv2WMpM_3W4",
        "outputId": "6f97774f-f1c8-4c24-9349-2aa82bd15dea"
      },
      "execution_count": null,
      "outputs": [
        {
          "output_type": "stream",
          "name": "stdout",
          "text": [
            "1/1 [==============================] - 1s 782ms/step - loss: 0.2480 - accuracy: 0.8182\n"
          ]
        },
        {
          "output_type": "execute_result",
          "data": {
            "text/plain": [
              "[0.24798709154129028, 0.8181818127632141]"
            ]
          },
          "metadata": {},
          "execution_count": 136
        }
      ]
    },
    {
      "cell_type": "markdown",
      "source": [
        "**Model Summary for Quantum**"
      ],
      "metadata": {
        "id": "lJq78CWKND2z"
      }
    },
    {
      "cell_type": "code",
      "source": [
        "model.summary()"
      ],
      "metadata": {
        "colab": {
          "base_uri": "https://localhost:8080/"
        },
        "id": "vx_3MbVg48_v",
        "outputId": "1c5fde7d-5c17-4307-e4d4-13d8bede0167"
      },
      "execution_count": null,
      "outputs": [
        {
          "output_type": "stream",
          "name": "stdout",
          "text": [
            "Model: \"model_48\"\n",
            "_________________________________________________________________\n",
            " Layer (type)                Output Shape              Param #   \n",
            "=================================================================\n",
            " input_49 (InputLayer)       [(None, 1)]               0         \n",
            "                                                                 \n",
            " dense_50 (Dense)            (None, 1)                 2         \n",
            "                                                                 \n",
            " dropout_48 (Dropout)        (None, 1)                 0         \n",
            "                                                                 \n",
            " keras_layer_52 (KerasLayer)  (None, 1)                16        \n",
            "                                                                 \n",
            "=================================================================\n",
            "Total params: 18\n",
            "Trainable params: 18\n",
            "Non-trainable params: 0\n",
            "_________________________________________________________________\n"
          ]
        }
      ]
    },
    {
      "cell_type": "code",
      "source": [
        "from sklearn.ensemble import RandomForestClassifier\n",
        "\n",
        "ml = RandomForestClassifier()\n",
        "ml.fit(X_train, y_train)\n",
        "ml.score(X_test,y_test)"
      ],
      "metadata": {
        "colab": {
          "base_uri": "https://localhost:8080/"
        },
        "id": "lpSin1QJ_78B",
        "outputId": "c7bf1484-1e4c-4a16-8931-ad38d95089b4"
      },
      "execution_count": null,
      "outputs": [
        {
          "output_type": "execute_result",
          "data": {
            "text/plain": [
              "0.6363636363636364"
            ]
          },
          "metadata": {},
          "execution_count": 138
        }
      ]
    },
    {
      "cell_type": "code",
      "source": [
        "classic1 = tf.keras.layers.Dense(4,activation=\"relu\")\n",
        "classic2 = tf.keras.layers.Dense(3,activation=\"relu\")\n",
        "classic6 = tf.keras.layers.Dense(1, activation=\"sigmoid\")\n",
        "\n",
        "# construct the model\n",
        "classic_inputs = tf.keras.Input(shape=(1,))\n",
        "classic_ai = classic1(classic_inputs)\n",
        "classic_ai = tf.keras.layers.Dropout(0.1)(classic_ai)\n",
        "csai1, csai2, csai3, csai4 = tf.split(classic_ai, 4, axis=1)\n",
        "csai1 = classic2(csai1)\n",
        "classic_ai = tf.concat([csai1], axis=1)\n",
        "classic_outputs = classic6(classic_ai)\n",
        "\n",
        "classic_ai_model = tf.keras.Model(inputs=classic_inputs, outputs=classic_outputs)\n",
        "classic_opt = tf.keras.optimizers.SGD(learning_rate=0.2)\n",
        "classic_ai_model.compile(classic_opt, loss=\"mse\", metrics=[\"accuracy\"])"
      ],
      "metadata": {
        "id": "2ipglqeyA9qi"
      },
      "execution_count": null,
      "outputs": []
    },
    {
      "cell_type": "code",
      "source": [
        "classic_fit = classic_ai_model.fit(X_train, y_train, epochs=2, batch_size=256, validation_data=(X_test,y_test), verbose=2,shuffle=True)"
      ],
      "metadata": {
        "execution": {
          "iopub.status.busy": "2022-10-25T22:42:44.080888Z",
          "iopub.execute_input": "2022-10-25T22:42:44.081903Z",
          "iopub.status.idle": "2022-10-25T22:47:06.046765Z",
          "shell.execute_reply.started": "2022-10-25T22:42:44.081856Z",
          "shell.execute_reply": "2022-10-25T22:47:06.045818Z"
        },
        "trusted": true,
        "id": "dLKdgEUXfCpr",
        "outputId": "01cab972-5e6e-44e4-d060-e0639dd6d48d",
        "colab": {
          "base_uri": "https://localhost:8080/"
        }
      },
      "execution_count": null,
      "outputs": [
        {
          "output_type": "stream",
          "name": "stdout",
          "text": [
            "Epoch 1/2\n"
          ]
        },
        {
          "output_type": "stream",
          "name": "stderr",
          "text": [
            "WARNING:tensorflow:6 out of the last 15 calls to <function Model.make_test_function.<locals>.test_function at 0x7fc8abc53d40> triggered tf.function retracing. Tracing is expensive and the excessive number of tracings could be due to (1) creating @tf.function repeatedly in a loop, (2) passing tensors with different shapes, (3) passing Python objects instead of tensors. For (1), please define your @tf.function outside of the loop. For (2), @tf.function has experimental_relax_shapes=True option that relaxes argument shapes that can avoid unnecessary retracing. For (3), please refer to https://www.tensorflow.org/guide/function#controlling_retracing and https://www.tensorflow.org/api_docs/python/tf/function for  more details.\n"
          ]
        },
        {
          "output_type": "stream",
          "name": "stdout",
          "text": [
            "1/1 - 0s - loss: 0.2960 - accuracy: 0.2527 - val_loss: 0.2929 - val_accuracy: 0.1818 - 475ms/epoch - 475ms/step\n",
            "Epoch 2/2\n",
            "1/1 - 0s - loss: 0.2842 - accuracy: 0.2967 - val_loss: 0.2804 - val_accuracy: 0.1818 - 24ms/epoch - 24ms/step\n"
          ]
        }
      ]
    },
    {
      "cell_type": "code",
      "source": [
        "classic_ai_model.evaluate(X_test,y_test)"
      ],
      "metadata": {
        "colab": {
          "base_uri": "https://localhost:8080/"
        },
        "id": "7SanQkBFUlj8",
        "outputId": "25339533-7e70-46e9-c897-0f1488584661"
      },
      "execution_count": null,
      "outputs": [
        {
          "output_type": "stream",
          "name": "stdout",
          "text": [
            "1/1 [==============================] - 0s 20ms/step - loss: 0.2423 - accuracy: 0.7273\n"
          ]
        },
        {
          "output_type": "execute_result",
          "data": {
            "text/plain": [
              "[0.24225696921348572, 0.7272727489471436]"
            ]
          },
          "metadata": {},
          "execution_count": 144
        }
      ]
    },
    {
      "cell_type": "code",
      "source": [
        "classic_ai_model.summary()"
      ],
      "metadata": {
        "colab": {
          "base_uri": "https://localhost:8080/"
        },
        "id": "S8vu7YvUDc7G",
        "outputId": "76daf6b0-af9e-4603-e2b3-5868b9363781"
      },
      "execution_count": null,
      "outputs": [
        {
          "output_type": "stream",
          "name": "stdout",
          "text": [
            "Model: \"model_1\"\n",
            "_________________________________________________________________\n",
            " Layer (type)                Output Shape              Param #   \n",
            "=================================================================\n",
            " input_2 (InputLayer)        [(None, 1)]               0         \n",
            "                                                                 \n",
            " dense_1 (Dense)             (None, 4)                 8         \n",
            "                                                                 \n",
            " dropout_1 (Dropout)         (None, 4)                 0         \n",
            "                                                                 \n",
            " tf.split (TFOpLambda)       [(None, 1),               0         \n",
            "                              (None, 1),                         \n",
            "                              (None, 1),                         \n",
            "                              (None, 1)]                         \n",
            "                                                                 \n",
            " dense_2 (Dense)             (None, 3)                 6         \n",
            "                                                                 \n",
            " tf.identity (TFOpLambda)    (None, 3)                 0         \n",
            "                                                                 \n",
            " dense_3 (Dense)             (None, 1)                 4         \n",
            "                                                                 \n",
            "=================================================================\n",
            "Total params: 18\n",
            "Trainable params: 18\n",
            "Non-trainable params: 0\n",
            "_________________________________________________________________\n"
          ]
        }
      ]
    },
    {
      "cell_type": "markdown",
      "source": [
        "# Compare performance"
      ],
      "metadata": {
        "id": "yzE7JL2CfCpr"
      }
    },
    {
      "cell_type": "markdown",
      "source": [
        "## Deep Learning (Classic Neural Network) vs MyQuantum 5G Algorithm"
      ],
      "metadata": {
        "id": "qZ9Jm52QW6kL"
      }
    },
    {
      "cell_type": "code",
      "source": [
        "plt.figure(figsize=(10,5))\n",
        "plt.plot(classic_fit.history['accuracy'], label='Classical Neural Network Acc')\n",
        "plt.plot(classic_fit.history['val_accuracy'], label='Classical Neural Network Val Acc')\n",
        "plt.plot(model_fit.history['accuracy'], label='MyQuantum 5G Algorithm Acc')\n",
        "plt.plot(model_fit.history['val_accuracy'], label='MyQuantum 5G Algorithm Val Acc')\n",
        "plt.title(\"Deep Learning (Classic Neural Network) vs MyQuantum 5G Algorithm \\n Emirhan BULUT\")\n",
        "plt.xlabel('Epoch')\n",
        "plt.ylabel('Accuracy')\n",
        "plt.legend()"
      ],
      "metadata": {
        "colab": {
          "base_uri": "https://localhost:8080/",
          "height": 382
        },
        "id": "dGmpb0aFUpP7",
        "outputId": "53cbf450-c172-4208-deb7-5a0e433807af"
      },
      "execution_count": null,
      "outputs": [
        {
          "output_type": "execute_result",
          "data": {
            "text/plain": [
              "<matplotlib.legend.Legend at 0x7fc930321d90>"
            ]
          },
          "metadata": {},
          "execution_count": 175
        },
        {
          "output_type": "display_data",
          "data": {
            "text/plain": [
              "<Figure size 720x360 with 1 Axes>"
            ],
            "image/png": "[encoded data removed]"
          },
          "metadata": {
            "needs_background": "light"
          }
        }
      ]
    },
    {
      "cell_type": "code",
      "source": [
        "plt.figure(figsize=(10,5))\n",
        "plt.plot(classic_fit.history['accuracy'], label='Deep Learning Acc')\n",
        "plt.plot(classic_fit.history['val_accuracy'], label='Deep Learning Val Acc')\n",
        "plt.plot(model_fit.history['accuracy'], label='MyQuantum 5G Algorithm Acc')\n",
        "plt.plot(model_fit.history['val_accuracy'], label='MyQuantum 5G Algorithm Val Acc')\n",
        "plt.title(\"Deep Learning (Classic Neural Network) vs MyQuantum 5G Algorithm \\n Emirhan BULUT\")\n",
        "plt.xlabel('Epoch')\n",
        "plt.ylabel('Accuracy')\n",
        "plt.legend()"
      ],
      "metadata": {
        "colab": {
          "base_uri": "https://localhost:8080/",
          "height": 382
        },
        "id": "z9FA8_poV0XL",
        "outputId": "bd186b50-dd02-4e24-891f-16f49cf86968"
      },
      "execution_count": null,
      "outputs": [
        {
          "output_type": "execute_result",
          "data": {
            "text/plain": [
              "<matplotlib.legend.Legend at 0x7fc8abe21f10>"
            ]
          },
          "metadata": {},
          "execution_count": 174
        },
        {
          "output_type": "display_data",
          "data": {
            "text/plain": [
              "<Figure size 720x360 with 1 Axes>"
            ],
            "image/png": "[encoded data removed]"
          },
          "metadata": {
            "needs_background": "light"
          }
        }
      ]
    },
    {
      "cell_type": "markdown",
      "source": [
        "## ML Algorithm (RandomForest) vs MyQuantum 5G Algorithm"
      ],
      "metadata": {
        "id": "cQanb_rbWyV8"
      }
    },
    {
      "cell_type": "code",
      "source": [
        "plt.figure(figsize=(10,5))\n",
        "plt.plot(model_fit.history['accuracy'], label='MyQuantum 5G Algorithm Acc')\n",
        "plt.plot(model_fit.history['val_accuracy'], label='MyQuantum 5G Algorithm Val Acc')\n",
        "plt.plot([ml.score(X_train,y_train),ml.score(X_train,y_train)], label='ML Algorithm (RandomForest) Acc')\n",
        "plt.plot([ml.score(X_test,y_test),ml.score(X_test,y_test)], label='ML Algorithm (RandomForest) Val Acc')\n",
        "plt.title(\"ML Algorithm (RandomForest) vs MyQuantum 5G Algorithm \\n Emirhan BULUT\")\n",
        "plt.xlabel('Epoch')\n",
        "plt.ylabel('Accuracy')\n",
        "plt.legend()"
      ],
      "metadata": {
        "colab": {
          "base_uri": "https://localhost:8080/",
          "height": 382
        },
        "id": "9WxK6bNYWJZ8",
        "outputId": "4c787418-1243-4e67-8b51-d07d8246266f"
      },
      "execution_count": null,
      "outputs": [
        {
          "output_type": "execute_result",
          "data": {
            "text/plain": [
              "<matplotlib.legend.Legend at 0x7fc8d440dd10>"
            ]
          },
          "metadata": {},
          "execution_count": 173
        },
        {
          "output_type": "display_data",
          "data": {
            "text/plain": [
              "<Figure size 720x360 with 1 Axes>"
            ],
            "image/png": "[encoded data removed]"
          },
          "metadata": {
            "needs_background": "light"
          }
        }
      ]
    },
    {
      "cell_type": "markdown",
      "source": [
        "## Classical AI Model Bytes vs Quantum 5G AI Model Bytes"
      ],
      "metadata": {
        "id": "vDqu2Jo0ZjLZ"
      }
    },
    {
      "cell_type": "code",
      "source": [
        "#Classic AI model save\n",
        "classic_ai_model.save(\"classicai.h5\")\n",
        "#Quantum 5 AI model save\n",
        "model.save(\"quantum5g.h5\")"
      ],
      "metadata": {
        "id": "aME-zAgzY1pj"
      },
      "execution_count": null,
      "outputs": []
    },
    {
      "cell_type": "code",
      "source": [
        "import os\n",
        "classic = \"classicai.h5\"\n",
        "quantum = \"quantum5g.h5\"\n",
        "file_stats_classic = os.stat(classic)\n",
        "file_stats_quantum = os.stat(quantum)\n",
        "print(f'Classic AI Model Size in Bytes is {file_stats_classic.st_size}')\n",
        "print(f'Quantum 5G Model Size in Bytes is {file_stats_quantum.st_size}')"
      ],
      "metadata": {
        "colab": {
          "base_uri": "https://localhost:8080/"
        },
        "id": "mmOhKkEaYyrC",
        "outputId": "85847502-cb25-4291-ab16-1343fcf1dbe0"
      },
      "execution_count": null,
      "outputs": [
        {
          "output_type": "stream",
          "name": "stdout",
          "text": [
            "Classic AI Model Size in Bytes is 24120\n",
            "Quantum 5G Model Size in Bytes is 20384\n"
          ]
        }
      ]
    },
    {
      "cell_type": "code",
      "source": [
        "plt.figure(figsize=(10,5))\n",
        "plt.plot([file_stats_classic.st_size,file_stats_classic.st_size], label='Classic AI Model Size in Bytes')\n",
        "plt.plot([file_stats_quantum.st_size,file_stats_quantum.st_size], label='Quantum 5G Model Size in Bytes')\n",
        "plt.title(\"Classical AI Model Bytes vs Quantum 5G AI Model Bytes \\n Emirhan BULUT\")\n",
        "plt.xlabel('0-1 range')\n",
        "plt.ylabel('Bytes')\n",
        "plt.legend()"
      ],
      "metadata": {
        "colab": {
          "base_uri": "https://localhost:8080/",
          "height": 382
        },
        "id": "vnNtBezPZM9T",
        "outputId": "8dac02e1-29e2-4401-b227-f210bff3f277"
      },
      "execution_count": null,
      "outputs": [
        {
          "output_type": "execute_result",
          "data": {
            "text/plain": [
              "<matplotlib.legend.Legend at 0x7fc8ac152dd0>"
            ]
          },
          "metadata": {},
          "execution_count": 180
        },
        {
          "output_type": "display_data",
          "data": {
            "text/plain": [
              "<Figure size 720x360 with 1 Axes>"
            ],
            "image/png": "[encoded data removed]"
          },
          "metadata": {
            "needs_background": "light"
          }
        }
      ]
    }
  ]
}
